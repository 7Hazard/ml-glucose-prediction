{
  "cells": [
    {
      "cell_type": "markdown",
      "source": [
        "Some rows contained invalid data points, uninterpretable. Those we're filtered away with the Regex pattern:"
      ],
      "metadata": {
        "id": "NlLtSj8SuDKt"
      }
    },
    {
      "cell_type": "markdown",
      "metadata": {
        "id": "dWTVdYQcUM0a"
      },
      "source": [
        "![WcEGigs[1].png](data:image/png;base64,iVBORw0KGgoAAAANSUhEUgAAAPAAAABICAIAAABHru/dAAAVfklEQVR42u2deyBU+RfAzx3CMOURplJKVER6bQ9RtG0PF4mpPKasqGxpsz3Ur6yiViWtYksJvVurdlatTNs7JLv0QC95bopQeQ4TmZnfH3earhl0NWNts/fz18x37j3fc77fM98599zvPYPo6+sDCYm8QOlpBUhIZAnp0CRyhWJXT1BqHrN4l015cMRFvkDsIwuP4PEN2/cntnZyOiKgjrIaW3v7dqkAiMBYu9/GAMG38Bpy4gJiHgjaP1+txm5pZL+bQUdy2h7Qidodmem5g6mUu2l/Yiv2ehgN+JSym/5EJZD0CF12aCkRINwW9QlL1vY9Gp5ExKdfFj9+8raNQ/ObS2sE3e5StHnWAxFuFQAAjF/mpJS7yT+x1cIj2HGN/cUfk/7hQSMhDlGHVqux84m16Q/Abyp7CQAAGuZeaxebUEG4btUuCnIepQqwc9fQ1O3f87GDBQj30Zng45k8vKg8dkQC+C1Z60DQpzH4SEVW1G93O3DlD8qUl5VDAwBYeAQ7j1IFAF5F6pYdzz13MIepgnHobsPbm04VeeA1l1xx1WrsFk/m3C/S0gNQah4zUrs07SQPAHIjMifFDevpKSPpDKIOPTvImvb0F//YuxrmXmu+7gMAtblHtvgDAGjZ+q3yGrctdiuIQg5NCPdPBgANcy+/mShkii9pn+bTHaHUPGahk0nV7U37E1u1bP02WiAAkHFiawYAADj5BbtNZR/bfBoXcrTR/GLsXTFp7hGTapODK4y36AH0atKjqQs/eqda1tBIOvS/GkIOrVZjpz+oPGvDPQBoyrpXyrDB2p39dlsMRACAVzEAoI1biBZIPpcyGkFyJFbWPHbEZa3ARYuKdpx8TEQHiqDfpBUrJwHwm4suxP3xAveR6oRxAxSeJp7jAUDzz4Xlk/sB7icFAJ7pIWLSOtHcfoO7cs7mmEyehXGPzQrJJ/PpMbSFR7BZY4K//10Ncy+/mW0+0rL1c9S54++fhF2itXu6Mer3pc6j+Ogn3WGVQvMY94hJb87+LzyTZ+ERPL5TzfHXfOkn6scMRKgDd4ZNwY7d6cWP59QJTejVpNdbrTv0JZEZhBz6nWpZU4ONoaMCJLaqThinT4NygP6a1OrSHAAwGTOYCq/wx4/Q0WqquwUAyu5GA5BGSYHGqB9jxPP46MTipi4EHAKEU3Dx5NVivrh6KZV1iyeNmUDJyeRhPVK4A9Ro1S/u8JWax4wyUIXcNseLad6inH04OFv06e85whfCpM35Vmc/16nzFHISW839JvZ7eadnJoqEGIQcukU5+0ziuLWLd4ZNAX5T2UsOAMD1G3lYS1N5GRcAAJ5kP7NdjF0UZlrEuoaFufLLy8olgg1j1G++6cvEA4S8uf/QkSbv03YC5A03E4Fi8WMaNZOPXzfatGBX2ALAenynwf4rN8g5dPd0hPvyBfcdQIty9uMiJ2fsolBC8865FJTiE7szbArwuU9/3nqhJ6eL5GMg//Ctb0RAnYhac1IuPerK2kxCQpB/2qFJSLoV8tY3iVxBOjSJXEE6NIlcodjQ0NDTOpCQyAzFXr169bQOJCQyQ1FBQaGndSAhkRmkQ5PIFYoIgkgvhYTkXwLp0CRyBZm2I5ErZPMIloqmJWOhGQ2A3/j4t1Npb963qFLKUw5dyJfRE1N0y6D9AROplGKW3eqjPOGeO9+IZLthSM3dPczA652fqAbA49wJc9maKhAAgGap9w8PGQYA/LYCxZCUbx+QsNKyNwC0PkucuyIG3yJAOH/uZW6//I7Ksf4+aeNYdQCAvCSntQebiZup5xkZs9BIJF+kJ4aoC4JmYvp/ghpi4C3CpAWETca3dLULydkUGS7SH2+7aLQ7RwYrtIqmpZOLZtbhw9HR0TGn0t4AqA2zW2xHuXbmIUd2D//peUbG+lFiQzI5uCEOiWcb5jknF3TWi2apd2DAyNx9jiiKRueMWB+1FGvc/nB2xT5HFEXt56xq15vbla/nGekz+ukuOzsURS+1zAtfoUy3DFo09dVZB3sURZcnVExw8gQAr7gNQwr3oCjKNGMpOu5ZokB0nOmWQT+6UjBpl1rmnd7+ZY1+nC8qhGnGKkIqX1zjSZ7Yrpn2AQmzlc5hJyo5nAycJVWKVgCcjH2OmCZrDzZzaSkBbkLFGNNC79Vxaor4BEW1O5s+tshZB3vGtNBc3hc+26YDgHuis8bdPZj8XI2ZRPSXgUMPn2Ram8bGL8ONBckxp9JqpReNo+zYaoeFW7JxLdiAfnRJUN0yWv/ZFWxJG6xLoxiMXqJAsYyepXn3ULvrXOfyx+rR65/exBa/c/eLjMw9WuKfv+EPHbW8FwDMG2vY8LqIyrHur9uYl5YGADX6cU+fCj8lwgQbE17Wb0d5fCrHeoAu0meEzTTcRY5l9Ky+WYnY10+z1PsAm316+5cdmendbDPZDMlKPAYASm6D6EAznjpVpnPyAa1VDPPaK52P50dnc4vLt0d5fC4tJeOh8GbfsyoONgJ9Zk830qxq95sshrQOTeFra2hxOOqoj4+Pj4+Py1TdbhqyT2asHh1zspB49tTqO8UgAIDBurQ3rdZn2Ww2m/37wWVdEthb2xAAqBzrlbONAKBGP279tFDutEQ2m22Y54xFJgjQNA0pAEC3DLIZ1oXL7sG6tMrydM1S7z2pG3vnZXFwH2mWes+aWnU16CZBMymvDPtoVr64xtPzjIwL1H6aLu0tYQRoFt+dZ7PZSWe24b9mVI71itn9sG+O9FA51hZmvSvL0wHgQojLN2yN/yUnx/pRomy/7SgsxCOtQyvwtDV69x7Rtyg6OvrI/pSmkV9Nofdw2sQ3IpnNZuPHHeEbfp+0kZrqtMK7FAAoTdMG6CIGpshPdnaMaaEPNJzCVyi3e6Ik1zZFPdBwYrPZv6b58p4UwfvgckjhHqYZS9kh8fT2L7m0lMj9mYMcEtlsdqwfJb+ga3GXAm8xFg6FXG1zomX0rCEluaJJxUIR/JWDmJkYyh77DqG1u22//VO6UcUHGH+8HI+FNBhaqxijFfJSrrRKIf4DXnEbRtUmYj+Mep6R0a6Usw720TkjNlz8iUjkJu1FIU/hdW1Dw+vMPAB41yvv2bNpetoIVPbk5v0DfnYHcG/1yipXLnSiJjmtPdhMdxukCwhfNbW8yp+aF5IqEAAtJePhSrcBlgDXxU5sFy4tJcAtBXttH5Bg+LpIaxXDXOFO2JYbNfrXt4UMigh0XqJw82h60AIUAIDKsQ5IMq5JJhpcPqvioE6zsMs+PU8tGtRi7Zql3nMskax9xzo68b6kmTpFDTUMO1vhBZavLg3qZTPC5+4XzZ4kfI39UhXccEqVxfWSb0TynP53w1xiRZLzzzsd5fEhxGVwRPJXQTZHO770x5B2heZTXtdW0wYN1wGAXu+MBw/m1L3+dz2K0rQtp5BS9ODwOwCYv3CCaknOUR7/WRXHyNwD2v7AdQnsWvBq0M3WgurGPlqGFAQAFIdpqdVXF+EKfczYubJLwWXWzSf1DXkpV1qx6RTF65bRs0QhMoZYDC1pZpzyzYyHDZgEumWQ9XBhWC8lmGINr4uwt9j3+dyhFukl2wckzOl/V5Sf4dJSyqsE9AGWWKcDdBEi0ySDJ1YofO1pTMaIPgAApbdiLj7ii7J4GLzy1NgkaZ/uFuWkMLAkjignBZ3msyTzQYDLZ3WS8pOUvz/WQzLZJ0rbiRrFUm9dslQyLYjlZCr3McUc+oeHDA2c8pJmSpM9FAOfQRONGCafmtplyZKzueyUHr4FG8lzJUskO+0c8hEsErmCvFNIIleQDk0iV5AOTSJXkA5NIlf80/WhPxkqldrTKpDIDLMvZnzaiQ/vXOv8AHKFJpErSIcmkStkE3LoTNoQumacKgCvMXv/0tAMgWDWmlivSTQAaH2evMj/pEx60bbYvHf9eBXK3+cZ/qf4wpvJy0N/nW2E1GZHem9P6fxEVQAe536EZ0i6QAAA6pUeW285DgbgtxUohqT8Of7Hl02mAUBraZLLmmP4FgHSmHXAK/RaqwrXamP8GnN1AID8i26bYrtwI022ZmInfoIaYuAtwqQF/zQR39LVLtSmL9gwWQcAeK9ytsWmixr9LZBbO8+ItrEothq5r5vVr+Lq7oR8ImJlsELrTNqwY53WFaa7q6sr03tXhkCg/pxpY1YY4ebmY5lUPshuu5eS9L3QmWFR31CO7bkrqs6rwrXaeoRlUOB+qbCzm+3qlR6b1hs/jHJhMBhHHg5bHf411rjl1leVUS4MBmOB07p2vbld+XRmmJdZQfj8+QwG41qL/c6lStoWm12nvE5csIDBYPiyKsfZLwIAj8jv9EsiGQyGl9V5RbsdiyiE90PL1Mw5/sdnKF3A1FCyjd04Q6r1SwCNmVEuDAaDwWBsim15S70V7IW9YzDRvTl1jbUlRLesUE3Qby2QtF1RW3dG3W013+AyXBrF8MjAoefOHVvxx5Z43Na+ukGnN3vvyhAI6gadflokm60dlaf9F379Qw6uBRvQjy4JKmtHDSy9HnqtFQD0tdUoQ0YtolAs9szQyI7DGjuiXfljB+g2FKZhi9/53JKhpu7vzr2o5g8x9VIEAEdzA051iQrXqp9OU/7tdACoo58oyBd+Klsz1Ss9wlmsuEDrjsz0aJk60QS5d+EUAPSaN1AX1IZPsZTJXEiivtTRtO565+OJZ6RJP35R9lUBKLYa9VVHqAOGmwIAAL+ikcttfIlzmVbFwjd1guraQoKSpQ05VJqm0HWbGmu2/fLLEACoyz7gs+vDDhj158zhhk1VV4h+cbuDsQN0OdUXsF9Mg4J7f4MmAOhrq1XXWp1krVbFRQ4EoWkZAKSocK2+mTEU6h7V0U9sRos3xsezbCH/opt3bIsKWCGgpmFAAQBti81TjZAXBT1gJoVj0FuzqvgGn84M2z+f8iCDM1hZqi4QUJu4MoG1sk1IAwAqXCufGfR7pzcRF9Wvj3L1y0LlZgvvoLH8wmdvBwrbuU/YoRK7fpKPHSQuWdoVWvmNgUZvNTP6I1dXVx/LpNoxnutshF8SlaYpqy46aGQf+/GmbHbKEmR56K8sFovFYp05/r0lggAAhW+wMX6Nym03v++eAwDlrWV/HWSwMXJo/nwmuvexusPOpUrtnijJzW0xj9UdWCzWqYvLefkl8D641C+J9LI6r2wbHxdo/ZZ660DM3YG28SwWK+obSmFht2w/rKOfWMtg4ENqMTOFE+Qe+tOsun3O6zOl0wIfYFytGIOFNBjqSx3NFPJvXf/44yR4FHiTvYJGVrMPHn8oy/GRdoVu7ltS29BYmRwPAHWDTucX2Q8ZSoGboNI0Zd2p1SZ1yYt2yWDLYpc4vHH+YdxbennVMmcHlYtum2JbtOcN1AGEr5L+8pWfSsHudIEAqLf+erJsQX8LgBSxE9vlLfVWsNct7PUc/+MG1SXqSx1NFe5H/JBaRxfs2DNwz4a5iyhppzJ2LGYAAKhwrTbED6+93O2/UfclzaSVcGocZ88UrqbLtdWAI30/AADnc0tmfCF8jf1SFaW5pXdlP3RFffOECSZ57CO/5AjUpqupAJF/UiCEtCv0W9XblVWqwydbwPsAo7aYDwDMvd+a1MksvyGVhuEPiiklj460AoDzvHHUvx+c4vNLXzcONXUHABWu1SQTWtXLjK6Kxa4Fb4Sk8YprmvpoGiAIACgM1VStrynBTa3NlmVdCi6JIxZDS5p5QintryccLOLXtthsNUwY1ksJ5sGc6hKhGksdTRXuX4gjuuEb4/GTCu7bigc5AsVWI4a5Drc8/5GMhkUG20exxXhUHwCAgssegUda+rnv3DdX9OD9h1yeNL0M+nI7lpPCwAJfUU4KcCkzyXPpzLAo56HQQT6rk1yYpPxDP7tLJvtEaTtRo6jHrgbootTbR83E0o7qOOUlzZQmeyiGKMuJHzFMvsrtLks2+2LGeGevuSNUoG3a7qN89E7hZ7Mfmrz1LU+Qt75JSAhBOjSJXEE6NIlc8dnE0CQkRCBXaBK5gnRoErmiW8rp1r8ztl1l3R8AZFSUA+M/Uk5XzEx5LafbbukS0UhiAy46hrhwGTi0sJxu9OEPBUh75f0enQfva9DYmj69+Ejae796npGH0Nr9IZlLArXxQ0xNdUqG36Z0fKJmqXcge2TuPsftl9/ZBySsj1qauiJGVE7Xt+OaRu3Kf19Od2uqQOAbkRy+4kRo7qZFU1+dtXPD6sscdPKEyzHCcrqB1zVLvYMf71ly2I9IocF2zazRj/NF40S2BD8e02E5XQkz35fTxew9GVjEJF7DSRIBcDLwxW5wVdGoHOuAJN9mwuV0hVWD7eyP8vi+EcmntxcxA6/bByQsH3gVRT/U5Sk7tho9Jjw+IvDHJYdXf3QYu6WcrggFnnbvPg0yKQ72HymnK2kmHrkppytZNfirUu9ZU6sSV8W1e7xkjbWOkHaFFpbTrUd9fPQAoPZxYkJaFeCCkNrHiUk9WrtxrB694fU5bLk1zMsqBi3AyulWW59lr1frerWu3tqGANeF5XRrH9Tox62fVvh9UiLbAfKSnJgHm6lgLVZO93meDAwRltO1u0nQTKyc7v1rPKyGZ3Zag4GKVAoIy+l+1yakAVE53aPriIsarEurzEvHoineX1kcU0TBbZBOfY1ReBJ7GIIPq7AgRIBw/ty7jkg9yO4qp/u2Jv10dHTMQVblQKd/uGj0515OtyPkrJyuWNVgynAtddoX1Dxn7I8QJi4NxKbgQogLiqJePzweteY0kQr+3VtOl095XVhSb6TTF6BKyo6I81mX0+0IOSunK1k1mJ9fXccRVjFt2pZT4jrGkIKk8oQy6y/dKFg1EfvR65zuLadL4WsbGfQpK34qm4H8JD6vcrodIWfldCWrBmfGP39DM7aeqQgAqltGG9TX4Iexz+zphprFmHWd0+3ldLEW6cfxP1JOt10z5a+cLrSX/RTZLhpGyYH9qFjy1jeJXEHeKSSRK0iHJpErSIcmkStIhyaRK0iHJpErSIcmkStIhyaRK7plP/QbAADo9c7YdpU1HdciJf+R/dCS8omYie/xs9gPLTabHemPjQbx+1MyWKGF+6EPH46Ojo7B+a6JwzS1F2XS/mP6e/Q8I2P9KLEhmaJyVtgftRvmOSd3uvtHs9Q7MGBk7j5HFEWjc0Zgu2pE+6FRFLWfs6pdb25X/vv90HYoil5qmRe+Qhm7B37WwR7bVTPByRMAhPuhUZRpxlJ03EPkT6pF2s4cnbfLzo5pxno+2Cl8hTJBM8U2D/lsmw4A7/dDo0wzlpLDSSKbezpBAJyMfY5YF2sPNuN7ZEwLvVfHqSG8H1pyNtvV3zci2U0lOiq9C070f+9pZokhSHbqAAAAAElFTkSuQmCC)\n",
        "\n",
        "![hySPjxn[1].png](data:image/png;base64,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)"
      ]
    },
    {
      "cell_type": "markdown",
      "metadata": {
        "id": "Kck_lzlMT3b6"
      },
      "source": [
        "I filtered these out when reading with the following regex:\n",
        "([0-9]{2}-[0-9]{2}-[0-9]{4})\\t([0-9]{1,2}:[0-9]{2})\\t([0-9]{2})\\t([0-9]{3})\\n\n",
        "\n",
        "I ommit the date as the it is specified that the value is to be predicted based on time and activity.\n",
        "\n",
        "I assumed polynomial regression would be the algorithms that fits the best, given the dataset. The datapoints aren't layed out in a way where classification would really make sense."
      ]
    },
    {
      "cell_type": "code",
      "execution_count": 6,
      "metadata": {
        "id": "Xo9CzOZr5RKZ",
        "colab": {
          "base_uri": "https://localhost:8080/"
        },
        "outputId": "fbb30ec8-d8a3-4be6-d1fc-76dcde2e00a8"
      },
      "outputs": [
        {
          "output_type": "stream",
          "name": "stdout",
          "text": [
            "Errors: 263\n"
          ]
        }
      ],
      "source": [
        "# data cleaning without date\n",
        "import os\n",
        "import re\n",
        "from datetime import datetime\n",
        "\n",
        "pattern = re.compile(\"([0-9]{2}-[0-9]{2}-[0-9]{4})\\t([0-9]{1,2}:[0-9]{2})\\t([0-9]{2})\\t([0-9]{1,3})\\n\")\n",
        "taskpattern = re.compile(\"3[0-5]|4[8]|5[7-9]|6[0-9]|7[0-2]\")\n",
        "\n",
        "x_data = []\n",
        "y_data = []\n",
        "errors = 0\n",
        "\n",
        "files = os.listdir('data')\n",
        "for f in files:\n",
        "  with open('data/'+f) as file:\n",
        "    for line in file:\n",
        "      try:\n",
        "        if not pattern.match(line):\n",
        "          errors += 1\n",
        "          continue\n",
        "        date, time, task, value = line.split('\\t')\n",
        "        if not taskpattern.match(task):\n",
        "          errors += 1\n",
        "          continue\n",
        "        h, m = time.split(\":\")\n",
        "        h, m = int(h), int(m)\n",
        "        if h > 23 or h < 0 or m > 59 or m < 0:\n",
        "          errors += 1\n",
        "          continue\n",
        "        t = h*3600+m*60\n",
        "        newx = [t, int(task)]\n",
        "        newy = float(value.replace('\\n', ''))\n",
        "        x_data.append(newx)\n",
        "        y_data.append(newy)\n",
        "      except:\n",
        "        errors += 1\n",
        "        print(f\"Bad data: {line}\")\n",
        "\n",
        "print(f\"Errors: {errors}\")\n",
        "\n",
        "# split into train and test data\n",
        "from sklearn.model_selection import train_test_split\n",
        "\n",
        "x_train, x_test, y_train, y_test = train_test_split(\n",
        "    x_data, y_data, test_size=0.26, random_state=6)"
      ]
    },
    {
      "cell_type": "code",
      "source": [
        "# data cleaning with date\n",
        "import os\n",
        "import re\n",
        "from datetime import datetime\n",
        "\n",
        "pattern = re.compile(\"([0-9]{2}-[0-9]{2}-[0-9]{4})\\t([0-9]{1,2}:[0-9]{2})\\t([0-9]{2})\\t([0-9]{1,3})\\n\")\n",
        "taskpattern = re.compile(\"3[0-5]|4[8]|5[7-9]|6[0-9]|7[0-2]\")\n",
        "\n",
        "x_data = []\n",
        "y_data = []\n",
        "errors = 0\n",
        "\n",
        "files = os.listdir('data')\n",
        "for f in files:\n",
        "  with open('data/'+f) as file:\n",
        "    for line in file:\n",
        "      try:\n",
        "        if not pattern.match(line):\n",
        "          errors += 1\n",
        "          continue\n",
        "        date, time, task, value = line.split('\\t')\n",
        "        if not taskpattern.match(task):\n",
        "          errors += 1\n",
        "          continue\n",
        "        dtstr = date+\" \"+time+\":00\"\n",
        "        dt = datetime.strptime(dtstr, '%m-%d-%Y %H:%M:%S')\n",
        "        newx = [dt.timestamp(), int(task)]\n",
        "        newy = float(value.replace('\\n', ''))\n",
        "        x_data.append(newx)\n",
        "        y_data.append(newy)\n",
        "      except:\n",
        "        errors += 1\n",
        "        print(f\"Bad data: {line}\")\n",
        "\n",
        "print(f\"Errors: {errors}\")\n",
        "\n",
        "# split into train and test data\n",
        "from sklearn.model_selection import train_test_split\n",
        "x_train, x_test, y_train, y_test = train_test_split(\n",
        "    x_data, y_data, test_size=0.2, random_state=1)"
      ],
      "metadata": {
        "colab": {
          "base_uri": "https://localhost:8080/"
        },
        "id": "Q05u50be6N3a",
        "outputId": "4829fc56-184c-495a-afef-dbf9eecf73d1"
      },
      "execution_count": 2,
      "outputs": [
        {
          "output_type": "stream",
          "name": "stdout",
          "text": [
            "Bad data: 04-09-1991\t56:35\t58\t237\n",
            "\n",
            "Bad data: 04-09-1991\t56:35\t33\t016\n",
            "\n",
            "Bad data: 04-09-1991\t56:35\t34\t040\n",
            "\n",
            "Bad data: 06-31-1991\t07:50\t58\t149\n",
            "\n",
            "Bad data: 06-31-1991\t07:50\t33\t004\n",
            "\n",
            "Bad data: 06-31-1991\t07:50\t34\t024\n",
            "\n",
            "Bad data: 06-31-1991\t13:30\t60\t162\n",
            "\n",
            "Bad data: 06-31-1991\t13:30\t33\t005\n",
            "\n",
            "Bad data: 06-31-1991\t19:45\t62\t213\n",
            "\n",
            "Bad data: 06-31-1991\t19:45\t33\t011\n",
            "\n",
            "Errors: 270\n"
          ]
        }
      ]
    },
    {
      "cell_type": "markdown",
      "source": [
        "Here we find some dates that are not valid eg. 31st of June. However, I do base the results below on the data without the dates as I later motivate why I believe having the date in the model is redundant."
      ],
      "metadata": {
        "id": "e3nLgf0HvIol"
      }
    },
    {
      "cell_type": "code",
      "source": [
        "# linear regression\n",
        "from sklearn.preprocessing import PolynomialFeatures\n",
        "from sklearn import linear_model\n",
        "\n",
        "reg = linear_model.LinearRegression()\n",
        "reg.fit(x_train, y_train)\n",
        "reg.score(x_test, y_test)"
      ],
      "metadata": {
        "colab": {
          "base_uri": "https://localhost:8080/"
        },
        "id": "U_d4BUJ9oOsd",
        "outputId": "af6a8c12-b5e9-4a15-82ad-cf684214c986"
      },
      "execution_count": 7,
      "outputs": [
        {
          "output_type": "execute_result",
          "data": {
            "text/plain": [
              "0.41462803769484236"
            ]
          },
          "metadata": {},
          "execution_count": 7
        }
      ]
    },
    {
      "cell_type": "code",
      "source": [
        "# polynomial regression\n",
        "from sklearn.preprocessing import PolynomialFeatures\n",
        "from sklearn import linear_model\n",
        "\n",
        "maxDegree = 1\n",
        "maxScore = 0\n",
        "\n",
        "for x in range(1, 8):\n",
        "  poly = PolynomialFeatures(degree=x)\n",
        "  px_train = poly.fit_transform(x_train)\n",
        "  px_test = poly.fit_transform(x_test)\n",
        "\n",
        "  reg = linear_model.LinearRegression()\n",
        "  reg.fit(px_train, y_train)\n",
        "  score = reg.score(px_test, y_test)\n",
        "\n",
        "  if score > maxScore:\n",
        "    maxScore = score\n",
        "    maxDegree = x\n",
        "\n",
        "print(f\"{maxDegree}: {maxScore}\")"
      ],
      "metadata": {
        "colab": {
          "base_uri": "https://localhost:8080/"
        },
        "id": "RYLIOwJHlfIj",
        "outputId": "1436000f-0db4-45c8-84e2-b1311af90192"
      },
      "execution_count": 8,
      "outputs": [
        {
          "output_type": "stream",
          "name": "stdout",
          "text": [
            "3: 0.6241498493652502\n"
          ]
        }
      ]
    },
    {
      "cell_type": "code",
      "source": [
        "# random forest regression\n",
        "from sklearn.ensemble import RandomForestRegressor\n",
        "\n",
        "maxScore = 0\n",
        "maxDepth = 1\n",
        "maxEstimators = 1\n",
        "\n",
        "for x in range(1, 14):\n",
        "  for y in range(1, 60):\n",
        "    regr = RandomForestRegressor(max_depth=x, n_estimators=y, random_state=0)\n",
        "    regr.fit(x_train, y_train)\n",
        "    score = regr.score(x_test, y_test)\n",
        "    if score > maxScore:\n",
        "      maxScore = score\n",
        "      maxDepth = x\n",
        "      maxEstimators = y\n",
        "\n",
        "print(f\"{maxDepth}: {maxScore}\")"
      ],
      "metadata": {
        "colab": {
          "base_uri": "https://localhost:8080/"
        },
        "id": "ithChhsA1mi3",
        "outputId": "7192d397-0692-466d-cddb-b33eaa914485"
      },
      "execution_count": 9,
      "outputs": [
        {
          "output_type": "stream",
          "name": "stdout",
          "text": [
            "7: 0.66190276654815\n"
          ]
        }
      ]
    },
    {
      "cell_type": "markdown",
      "source": [
        "As we see here random forest regression with max_depth of 10 yields the highest possible score."
      ],
      "metadata": {
        "id": "ytVYHOZMRjwt"
      }
    },
    {
      "cell_type": "code",
      "execution_count": 10,
      "metadata": {
        "colab": {
          "base_uri": "https://localhost:8080/"
        },
        "id": "JT20F5AdkVIR",
        "outputId": "3aa21231-7681-4977-8942-018240d239e1"
      },
      "outputs": [
        {
          "output_type": "execute_result",
          "data": {
            "text/plain": [
              "0.1462026991267531"
            ]
          },
          "metadata": {},
          "execution_count": 10
        }
      ],
      "source": [
        "# knn\n",
        "from sklearn.neighbors import KNeighborsClassifier\n",
        "neigh = KNeighborsClassifier(n_neighbors=6)\n",
        "neigh.fit(x_train, y_train)\n",
        "neigh.score(x_test, y_test)"
      ]
    },
    {
      "cell_type": "code",
      "execution_count": 11,
      "metadata": {
        "colab": {
          "base_uri": "https://localhost:8080/"
        },
        "id": "zWZvEur0kVIQ",
        "outputId": "b69a76f2-e7aa-471b-f99a-5248736bc4cc"
      },
      "outputs": [
        {
          "output_type": "execute_result",
          "data": {
            "text/plain": [
              "0.09354326541413072"
            ]
          },
          "metadata": {},
          "execution_count": 11
        }
      ],
      "source": [
        "# svm\n",
        "from sklearn import svm\n",
        "clf = svm.SVC()\n",
        "clf.fit(x_train, y_train)\n",
        "clf.score(x_test, y_test)"
      ]
    },
    {
      "cell_type": "markdown",
      "source": [
        "SVM was by far the slowest algorithms to compute. It also yielded the lowest scores of all the classification and regression algorithms."
      ],
      "metadata": {
        "id": "h_bEF6dLSAcW"
      }
    },
    {
      "cell_type": "code",
      "source": [
        "# decision tree\n",
        "from sklearn import tree\n",
        "clf = tree.DecisionTreeClassifier()\n",
        "clf = clf.fit(x_train, y_train)\n",
        "clf.score(x_test, y_test)"
      ],
      "metadata": {
        "colab": {
          "base_uri": "https://localhost:8080/"
        },
        "id": "MBZgZbFKscjd",
        "outputId": "c84faa5f-5918-4783-b06e-0c7a38d8111e"
      },
      "execution_count": 12,
      "outputs": [
        {
          "output_type": "execute_result",
          "data": {
            "text/plain": [
              "0.20468377877745436"
            ]
          },
          "metadata": {},
          "execution_count": 12
        }
      ]
    },
    {
      "cell_type": "code",
      "source": [
        "# random forest classifier\n",
        "from sklearn.ensemble import RandomForestClassifier\n",
        "\n",
        "maxDepth = 1\n",
        "maxScore = 0\n",
        "maxEstimators = 1\n",
        "\n",
        "for x in range(1, 5):\n",
        "  for y in range(1, 60):\n",
        "    clf = RandomForestClassifier(max_depth=x, n_estimators=y, random_state=0)\n",
        "    clf.fit(x_train, y_train)\n",
        "    score = clf.score(x_test, y_test)\n",
        "    if score > maxScore:\n",
        "      maxScore = score\n",
        "      maxDepth = x\n",
        "      maxEstimators = y\n",
        "\n",
        "print(f\"{maxDepth}: {maxScore}\")"
      ],
      "metadata": {
        "colab": {
          "base_uri": "https://localhost:8080/"
        },
        "id": "s6dB7xIxQZhg",
        "outputId": "fe7ee42a-26d5-4cf5-cd3a-47c88e48bcbe"
      },
      "execution_count": 13,
      "outputs": [
        {
          "output_type": "stream",
          "name": "stdout",
          "text": [
            "4: 0.15242127546970097\n"
          ]
        }
      ]
    },
    {
      "cell_type": "markdown",
      "source": [
        "As we see here, all the tested classification algorithms above yeilded low scores (except for Random Forest Classification), SVM yielding the lowest of all algorithms tried out.\n",
        "\n",
        "With that said, the data cleaning could be refined if the context of the datasets are more understood because there are a lot of datapoints which don't really seem valid. Eg. there are many which record a glucose value of 0 which is not really humanly possible while still staying alive. Such recordings could be faulty.\n",
        "\n",
        "I decided to ommit the date from the actual model training results, and my reasoning is it is not relevant when predicting the glucose value because it is unlikely the typical glucose value highly varies between the years 1991 and 2022.\n",
        "\n",
        "From an ethical standpoint, this model should absolutely not be used in the real world. Not only is the data that this model is trained with not well understood but in my opinion the prediction is a gross estimate based just on the time of day it is and the vague activity by code that was done before."
      ],
      "metadata": {
        "id": "XOBlh22zR1Mh"
      }
    }
  ],
  "metadata": {
    "colab": {
      "collapsed_sections": [],
      "name": "glucose.ipynb",
      "provenance": []
    },
    "kernelspec": {
      "display_name": "Python 3",
      "name": "python3"
    },
    "language_info": {
      "codemirror_mode": {
        "name": "ipython",
        "version": 3
      },
      "file_extension": ".py",
      "mimetype": "text/x-python",
      "name": "python",
      "nbconvert_exporter": "python",
      "pygments_lexer": "ipython3",
      "version": "3.9.7"
    }
  },
  "nbformat": 4,
  "nbformat_minor": 0
}